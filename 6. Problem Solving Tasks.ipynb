{
 "cells": [
  {
   "cell_type": "markdown",
   "metadata": {},
   "source": [
    "# <span style=\"color:#0b486b\">SIT307 - Data Mining and Machine Learning</span>\n",
    "\n",
    "---\n",
    "Lecturer:   Richard Dazeley     | richard.dazeley@deakin.edu.au<br />\n",
    "Assistant:  Adam Bignold | abignold@gmail.com\n",
    "\n",
    "School of Information Technology, <br />\n",
    "Deakin University, VIC 3216, Australia.\n",
    "\n",
    "\n",
    "---\n",
    "\n",
    "\n",
    "## <span style=\"color:#0b486b\">Practical Session 1: Problem Solving Task</span>\n",
    "\n",
    "**Prerequisite**\n",
    "You should already have done, or be confident with the content of: \n",
    "1. [Python Environments](1. Introduction to Python Environments.pdf)\n",
    "2. [Jupyter Notebooks](2. Jupyter Notbook Introduction.pdf)\n",
    "3. [Markdown](5. Markdown.ipynb)\n",
    "4. [Basic Python](3. Introduction to Python Programming.ipynb)\n",
    "5. [Python for Data Science](4. Introduction to Python Programming for Data Science.ipynb)\n",
    "\n",
    "If not click on the above links for an introduction\n",
    "\n",
    "**The purpose of this session is:**\n",
    "\n",
    "1. Test you basic python skills with some simple exercises\n",
    "\n",
    "**Instructions** \n",
    "\n",
    "1. After you download this notebook, save it as another copy and rename it to `\"[yourstudentID]_Week_1_problem_solving_Tasks.ipynb\"`\n",
    "2. fill in the code cells indicated with your own solution. You can discuss approaches with other students but must only submit your own original solution. \n",
    "3. Indicate any sections that use external sources.\n",
    "4. Submit this file as part of your Assignment 1: Problem Solving Tasks"
   ]
  },
  {
   "cell_type": "markdown",
   "metadata": {},
   "source": [
    "**Exercise 1:** Create and print an array with values ranging from 10 to 50 (inclusive) then reverse and print that array again (the first element becomes the last)"
   ]
  },
  {
   "cell_type": "code",
   "execution_count": null,
   "metadata": {
    "collapsed": true
   },
   "outputs": [],
   "source": []
  },
  {
   "cell_type": "markdown",
   "metadata": {},
   "source": [
    "**Exercise 2:** Create a random array of size 10, print the maximum value and its index, and replace that value by 0. Finally print the full array. Hint: Using max and argmax functions"
   ]
  },
  {
   "cell_type": "code",
   "execution_count": null,
   "metadata": {
    "collapsed": true
   },
   "outputs": [],
   "source": []
  },
  {
   "cell_type": "markdown",
   "metadata": {},
   "source": [
    "**Exercise 3:** Given two vectors: ages and heights as follows: "
   ]
  },
  {
   "cell_type": "code",
   "execution_count": null,
   "metadata": {
    "collapsed": true
   },
   "outputs": [],
   "source": [
    "ages = np.random.randint(low=20, high=60, size=10)\n",
    "heights = np.random.randint(low=150, high=200, size=10)\n",
    "print(ages)\n",
    "print(heights)"
   ]
  },
  {
   "cell_type": "markdown",
   "metadata": {},
   "source": [
    "Order(ascendingly) the people according to their age and print their corresponding heights. Hints: using argsort function."
   ]
  },
  {
   "cell_type": "code",
   "execution_count": null,
   "metadata": {
    "collapsed": true
   },
   "outputs": [],
   "source": []
  },
  {
   "cell_type": "markdown",
   "metadata": {},
   "source": [
    "**Exercise 4:** Write a python function that generates and prints out the first n rows of Pascals triangle. \n",
    "\n",
    "eg. each number os the addition of two numbers above. Example output is:  \n",
    "[1]  \n",
    "[1, 1]  \n",
    "[1, 2, 1]  \n",
    "[1, 3, 3, 1]  \n",
    "[1, 4, 6, 4, 1]  \n",
    "[1, 5, 10, 10, 5, 1]"
   ]
  },
  {
   "cell_type": "code",
   "execution_count": null,
   "metadata": {
    "collapsed": true
   },
   "outputs": [],
   "source": []
  }
 ],
 "metadata": {
  "kernelspec": {
   "display_name": "Python 3",
   "language": "python",
   "name": "python3"
  },
  "language_info": {
   "codemirror_mode": {
    "name": "ipython",
    "version": 3
   },
   "file_extension": ".py",
   "mimetype": "text/x-python",
   "name": "python",
   "nbconvert_exporter": "python",
   "pygments_lexer": "ipython3",
   "version": "3.6.4"
  }
 },
 "nbformat": 4,
 "nbformat_minor": 2
}
