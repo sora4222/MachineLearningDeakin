{
 "cells": [
  {
   "cell_type": "markdown",
   "metadata": {},
   "source": [
    "# <span style=\"color:#0b486b\">SIT307 - Data Mining and Machine Learning</span>\n",
    "\n",
    "---\n",
    "Lecturer:   Richard Dazeley     | richard.dazeley@deakin.edu.au<br />\n",
    "Assistant:  Adam Bignold | abignold@gmail.com\n",
    "\n",
    "School of Information Technology, <br />\n",
    "Deakin University, VIC 3216, Australia.\n",
    "\n",
    "\n",
    "---\n",
    "\n",
    "\n",
    "## <span style=\"color:#0b486b\">Practical Session 1: Python for Data Science</span>\n",
    "\n",
    "**Prerequisite**\n",
    "You should already have done, or be confident with the content of: \n",
    "1. [Python Environments](1. Introduction to Python Environments.pdf)\n",
    "2. [Jupyter Notebooks](2. Jupyter Notbook Introduction.pdf)\n",
    "3. [Markdown](5. Markdown.ipynb)\n",
    "4. [Basic Python](3. Introduction to Python Programming.ipynb)\n",
    "\n",
    "If not click on the above links for an introduction\n",
    "\n",
    "**The purpose of this session is:**\n",
    "\n",
    "1. Getting your feet wet with Python programming for Data Science. Demonstration of simple commands, numpy, IO, pandas etc\n",
    "2. Understanding how to read and write data to files\n",
    "\n",
    "**Instructions** \n",
    "\n",
    "1. After you download this notebook, save another copy and rename it so you keep your solution.\n",
    "2. As we walk through the notebook, you will be required to write your own code in the cells provided for you where necessary. Enter your own code in these cells.\n",
    "3. Although it is NOT marked, you are strongly recommended to keep these saved notebooks for your future reference.\n",
    "\n",
    "**Please note that**:\n",
    "* This unit is *not* about teaching you how to program in Python. You are responsible for developing your own programming skills. There are many excellent resources to learn python online as well as the recommended textbooks presented in the lecture.\n",
    "* Also note this file does not need to be submitted."
   ]
  },
  {
   "cell_type": "markdown",
   "metadata": {},
   "source": [
    "## <span style=\"color:#0b486b\">Numpy: Quick Introduction </span>\n",
    "Numpy library forms the core of many scientific packages. It offers support for arrays, matrices and related numerical calculations.\n",
    "\n",
    "In this tutorial we will review its basics, so to learn more about NumPy, visit [NumPy User Guide](http://docs.scipy.org/doc/numpy/user/index.html)"
   ]
  },
  {
   "cell_type": "markdown",
   "metadata": {},
   "source": [
    "### <span style=\"color:#0b486b\">1 Importing Numpy </span>\n",
    "To use any package, you must first import it. "
   ]
  },
  {
   "cell_type": "code",
   "execution_count": 1,
   "metadata": {},
   "outputs": [],
   "source": [
    "import numpy"
   ]
  },
  {
   "cell_type": "markdown",
   "metadata": {},
   "source": [
    "The default convention is to import numpy as:"
   ]
  },
  {
   "cell_type": "code",
   "execution_count": 2,
   "metadata": {},
   "outputs": [],
   "source": [
    "import numpy as np"
   ]
  },
  {
   "cell_type": "markdown",
   "metadata": {},
   "source": [
    "### <span style=\"color:#0b486b\">2 Numpy arrays</span>\n",
    "The core of NumPy is its arrays. You can create an array from a Python list or tuple using `'array'` function. They work similarly to lists apart from the fact that:\n",
    "\n",
    "* you can easily perform element-wise operation on them, and\n",
    "* unlike lists, they should be pre-allocated.\n",
    "\n",
    "The first point is further explained in [Array operations section](03-prac3.ipynb#Array-operations). The second point means that you there is no equivalent to list append for arrays. The size of the arrays is known at the time it is defined."
   ]
  },
  {
   "cell_type": "code",
   "execution_count": null,
   "metadata": {
    "collapsed": true
   },
   "outputs": [],
   "source": [
    "#create a list\n",
    "x = [1, 7, 3, 4, 0, -5]\n",
    "\n",
    "#convert it to an array\n",
    "y = np.array(x)\n",
    "print (type(y))\n",
    "print (y.shape)   # It returns a tuple of array dimensions"
   ]
  },
  {
   "cell_type": "markdown",
   "metadata": {},
   "source": [
    "Using numpy, we can specify a defined range of values to create a new array"
   ]
  },
  {
   "cell_type": "code",
   "execution_count": null,
   "metadata": {
    "collapsed": true
   },
   "outputs": [],
   "source": [
    "range(5)"
   ]
  },
  {
   "cell_type": "code",
   "execution_count": null,
   "metadata": {
    "collapsed": true
   },
   "outputs": [],
   "source": [
    "print(np.array(range(4,8)))"
   ]
  },
  {
   "cell_type": "code",
   "execution_count": null,
   "metadata": {
    "collapsed": true
   },
   "outputs": [],
   "source": [
    "print(np.arange(2, 3, 0.2))  # prints elements from 2 to 3 spaced by 0.2 units\n",
    "print(np.linspace(2, 3, 5))  # returns numbers spaced evenly on a linear scale, both endspoints are included\n",
    "print(np.logspace(2, 3, 5))  # returns numbers spaced evenly on a log scale"
   ]
  },
  {
   "cell_type": "markdown",
   "metadata": {},
   "source": [
    "Creating a an array filled with zeros of a patricular type and shape.\n"
   ]
  },
  {
   "cell_type": "code",
   "execution_count": null,
   "metadata": {
    "collapsed": true
   },
   "outputs": [],
   "source": [
    "print(np.zeros(shape=(3,), dtype=np.int))"
   ]
  },
  {
   "cell_type": "markdown",
   "metadata": {},
   "source": [
    "Creating a an array filled with ones of a patricular type and shape.\n"
   ]
  },
  {
   "cell_type": "code",
   "execution_count": null,
   "metadata": {
    "collapsed": true
   },
   "outputs": [],
   "source": [
    "print(np.ones(shape=(3,), dtype=np.int))"
   ]
  },
  {
   "cell_type": "markdown",
   "metadata": {},
   "source": [
    "We can reshape an array to a new specified shape keeping its contents.\n",
    "\n"
   ]
  },
  {
   "cell_type": "code",
   "execution_count": null,
   "metadata": {
    "collapsed": true
   },
   "outputs": [],
   "source": [
    "a = np.array([[1,2], [3,4]])\n",
    "print(a)\n",
    "\n",
    "a = np.reshape(a, 4)\n",
    "print(a)"
   ]
  },
  {
   "cell_type": "markdown",
   "metadata": {},
   "source": [
    "We can append values to the end of an array."
   ]
  },
  {
   "cell_type": "code",
   "execution_count": null,
   "metadata": {
    "collapsed": true
   },
   "outputs": [],
   "source": [
    "a = np.array([1,2,3])\n",
    "print(a)\n",
    "a = np.append(a,[4])\n",
    "print(a)"
   ]
  },
  {
   "cell_type": "markdown",
   "metadata": {},
   "source": [
    "We can stack arrays horizontally (columnwise) using numpy.\n"
   ]
  },
  {
   "cell_type": "code",
   "execution_count": null,
   "metadata": {
    "collapsed": true
   },
   "outputs": [],
   "source": [
    "a = np.array([1, 2, 3])\n",
    "print(\"shape of a is \" , a.shape, \"and the contents are\",a)\n",
    "b = np.array([2, 3, 4])\n",
    "print(\"shape of b is \" , b.shape, \" and the contents are\",b)\n",
    "stacked = np.hstack((a,b)) #horizontally\n",
    "print(\"shape of new array is \" , stacked.shape, \" and the contents are\",stacked) "
   ]
  },
  {
   "cell_type": "markdown",
   "metadata": {},
   "source": [
    "We can also stack arrays vertically (rowwise) using numpy."
   ]
  },
  {
   "cell_type": "code",
   "execution_count": null,
   "metadata": {
    "collapsed": true
   },
   "outputs": [],
   "source": [
    "a = np.array([1, 2, 3])\n",
    "print(\"shape of a is \" , a.shape, \"and the contents are\",a)\n",
    "b = np.array([2, 3, 4])\n",
    "print(\"shape of b is \" , b.shape, \" and the contents are\",b)\n",
    "stacked = np.vstack((a,b)) #vertically\n",
    "print(\"shape of new array is \" , stacked.shape, \" and the contents are\",stacked)"
   ]
  },
  {
   "cell_type": "markdown",
   "metadata": {},
   "source": [
    "We can create a matrix from an array-like object, or from a string of data. A matrix is a  2D array. "
   ]
  },
  {
   "cell_type": "code",
   "execution_count": null,
   "metadata": {
    "collapsed": true
   },
   "outputs": [],
   "source": [
    "a = np.matrix('1 2; 3 4') #string of data\n",
    "print(\"shape is\" ,a.shape, \"and contents are\", a)\n",
    "\n",
    "a = np.matrix([[1, 2], [3, 4]]) #array-like structure\n",
    "print(\"shape is\" ,a.shape, \"and contents are\", a)"
   ]
  },
  {
   "cell_type": "markdown",
   "metadata": {},
   "source": [
    "Create an identity matrix using numpy. it is a square array with ones on the main diagonal."
   ]
  },
  {
   "cell_type": "code",
   "execution_count": null,
   "metadata": {
    "collapsed": true
   },
   "outputs": [],
   "source": [
    "a = np.identity(3)\n",
    "print(\"shape is\" ,a.shape, \"and contents are\")\n",
    "print(a)"
   ]
  },
  {
   "cell_type": "markdown",
   "metadata": {},
   "source": [
    "We can find dot product of two arrays using numpy."
   ]
  },
  {
   "cell_type": "code",
   "execution_count": null,
   "metadata": {
    "collapsed": true
   },
   "outputs": [],
   "source": [
    "c =  np.dot(3, 4)\n",
    "print(c)\n",
    "print(c.shape)\n",
    "\n",
    "a = [[1, 0], [0, 1]] #2D array \n",
    "b = [[4, 1], [2, 2]] #2D array\n",
    "c = np.dot(a, b)  # matrix multiplication\n",
    "\n",
    "print(c)\n",
    "print(c.shape)"
   ]
  },
  {
   "cell_type": "markdown",
   "metadata": {},
   "source": [
    "We can compute the arithmetic sum, mean and standard deviation using numpy."
   ]
  },
  {
   "cell_type": "code",
   "execution_count": null,
   "metadata": {
    "collapsed": true
   },
   "outputs": [],
   "source": [
    "a = np.array([[1, 2], [3, 4]])\n",
    "print(np.sum(a)) # no axis specified\n",
    "print(np.sum(a, axis=0)) #along a specified axis (across columns)\n",
    "print(np.sum(a, axis=1)) #along a specified axis (across rows)\n",
    "\n",
    "print(np.mean(a))         # no axis specified\n",
    "print(np.mean(a, axis=0)) #along a specified axis (across columns)\n",
    "print(np.mean(a, axis=1)) #along a specified axis (across rows)\n",
    "\n",
    "print(np.std(a))         # no axis specified\n",
    "print(np.std(a, axis=0)) #along a specified axis (across columns)\n",
    "print(np.std(a, axis=1)) #along a specified axis (across rows)"
   ]
  },
  {
   "cell_type": "markdown",
   "metadata": {},
   "source": [
    "We can also find the cumulative sum of the array along a given axis."
   ]
  },
  {
   "cell_type": "code",
   "execution_count": null,
   "metadata": {
    "collapsed": true
   },
   "outputs": [],
   "source": [
    "print(np.cumsum(a)) # no axis specified\n",
    "print(np.cumsum(a, axis=0)) #along a specified axis (across columns)\n",
    "print(np.cumsum(a, axis=1)) #along a specified axis (across rows)"
   ]
  },
  {
   "cell_type": "markdown",
   "metadata": {},
   "source": [
    "Using numpy, we can select the unique element and its index from an array."
   ]
  },
  {
   "cell_type": "code",
   "execution_count": null,
   "metadata": {
    "collapsed": true
   },
   "outputs": [],
   "source": [
    "print(\"the unique elements are \",  np.unique([1, 1, 2, 2, 3, 3]))\n",
    "\n",
    "a = np.array([[1, 1], [2, 3]])\n",
    "print(\"the unique elements are \", np.unique(a))\n",
    " \n",
    "a = np.array(['a', 'b', 'b', 'c', 'a'])\n",
    "u, indices = np.unique(a, return_index=True) #Return the indices of the original array that give the unique values:\n",
    "print(\"the unique elements are \", u)\n",
    "print(\"corresponding indices of unique elements are \", indices)"
   ]
  },
  {
   "cell_type": "markdown",
   "metadata": {},
   "source": [
    "We can use numpy to create coordinate matrices from coordinate vectors.\n",
    "\n",
    "It allows us to make N-D coordinate arrays for vectorized evaluations of N-D scalar/vector fields over N-D grids, given one-dimensional coordinate arrays.\n",
    "meshgrid is very useful to evaluate functions on a grid."
   ]
  },
  {
   "cell_type": "code",
   "execution_count": null,
   "metadata": {
    "collapsed": true
   },
   "outputs": [],
   "source": [
    "nx, ny = (3, 2)\n",
    "x = np.linspace(0, 1, nx)\n",
    "y = np.linspace(0, 1, ny)\n",
    "xv, yv = np.meshgrid(x, y)\n",
    "print(xv)\n",
    "print(yv)"
   ]
  },
  {
   "cell_type": "markdown",
   "metadata": {},
   "source": [
    "NumPy has a module called `random` to generate arrays of random numbers. There are different ways to generate a random number:"
   ]
  },
  {
   "cell_type": "code",
   "execution_count": null,
   "metadata": {
    "collapsed": true
   },
   "outputs": [],
   "source": [
    "print(np.random.rand())"
   ]
  },
  {
   "cell_type": "markdown",
   "metadata": {},
   "source": [
    "Generate a 3x5 matrix of random numbers"
   ]
  },
  {
   "cell_type": "code",
   "execution_count": null,
   "metadata": {
    "collapsed": true
   },
   "outputs": [],
   "source": [
    "print(np.random.rand(3,5))"
   ]
  },
  {
   "cell_type": "markdown",
   "metadata": {},
   "source": [
    "We can fix the seed of the random number generator. Execute the previous cell more than one time and see the numbers changing randomly. In the below cell, once the seed is fixed, the numbers once sampled will not change. Seeding is especially used for debugging the programs generating the smae sequence. "
   ]
  },
  {
   "cell_type": "code",
   "execution_count": null,
   "metadata": {
    "collapsed": true
   },
   "outputs": [],
   "source": [
    "np.random.seed(2348) #seeding\n",
    "print(np.random.rand(3,5))"
   ]
  },
  {
   "cell_type": "markdown",
   "metadata": {},
   "source": [
    "We can drawrandom samples from a multivariate normal distribution using numpy."
   ]
  },
  {
   "cell_type": "code",
   "execution_count": null,
   "metadata": {
    "collapsed": true
   },
   "outputs": [],
   "source": [
    "mean = (1, 2)   #arithmetic mean\n",
    "cov = [[1, 0], [0, 1]] #covaraince \n",
    "x = np.random.multivariate_normal(mean, cov, (5))\n",
    "print(x)\n",
    "print(x.shape)"
   ]
  },
  {
   "cell_type": "markdown",
   "metadata": {},
   "source": [
    "We can compute eigen vector and eigen values using numpy.\n"
   ]
  },
  {
   "cell_type": "code",
   "execution_count": null,
   "metadata": {
    "collapsed": true
   },
   "outputs": [],
   "source": [
    "w, v = np.linalg.eig(np.diag((1, 2, 3)))\n",
    "print(\"eigen values are :\", w)\n",
    "print(\"eigen vectors are :\", v)"
   ]
  },
  {
   "cell_type": "markdown",
   "metadata": {},
   "source": [
    "We can take the inverse of a matrix using numpy. "
   ]
  },
  {
   "cell_type": "code",
   "execution_count": null,
   "metadata": {
    "collapsed": true
   },
   "outputs": [],
   "source": [
    "a = np.random.randn(3, 2)\n",
    "print(a)\n",
    "b = np.linalg.pinv(a)\n",
    "print(b)"
   ]
  },
  {
   "cell_type": "markdown",
   "metadata": {
    "collapsed": true
   },
   "source": [
    "We can compute the norm of a matrix or vector using numpy."
   ]
  },
  {
   "cell_type": "code",
   "execution_count": null,
   "metadata": {
    "collapsed": true
   },
   "outputs": [],
   "source": [
    "a = np.linspace(-4, 4, num=8)\n",
    "print(a)\n",
    "print(np.linalg.norm(a)) # frobeinus norm\n",
    "print(np.linalg.norm(a,1)) # 1 norm\n",
    "print(np.linalg.norm(a,2)) # 2 norm"
   ]
  },
  {
   "cell_type": "markdown",
   "metadata": {},
   "source": [
    "We list some miscellaneous function that you might encounter further down the path."
   ]
  },
  {
   "cell_type": "code",
   "execution_count": null,
   "metadata": {
    "collapsed": true
   },
   "outputs": [],
   "source": [
    "import numpy as np\n",
    "print(np.exp(0))  #exponential function\n",
    "print(np.sin(0)) #sine funciton\n",
    "print(np.cos(0)) #cosine function"
   ]
  },
  {
   "cell_type": "markdown",
   "metadata": {},
   "source": [
    "**Note**: If you need any help on how to use a function or what it does, you can IPython help. Just add a question mark (?) at the end of the function and execute the cell:"
   ]
  },
  {
   "cell_type": "markdown",
   "metadata": {},
   "source": [
    "### <span style=\"color:#0b486b\">3 File Input and Output </span>\n",
    "Here we will demonstrate reading, updating and writing files.  In many cases the data you need to work with is stored in files. Real world data usually appears in a file of some type such as txt, csv, xml, json, or so.\n"
   ]
  },
  {
   "cell_type": "markdown",
   "metadata": {},
   "source": [
    "### 3.1 Reading and Writing Files\n",
    "Now, let us read a text file already stored in the directory. "
   ]
  },
  {
   "cell_type": "code",
   "execution_count": null,
   "metadata": {
    "collapsed": true
   },
   "outputs": [],
   "source": [
    "myfile = open(\"data/months.txt\")\n",
    "print(myfile.read())\n",
    "myfile.close()"
   ]
  },
  {
   "cell_type": "markdown",
   "metadata": {},
   "source": [
    "Here, open() creates a file object (a way of getting at the contents of the file), which is then stored in the variable myfile. myfile.read() tells the file object to read the full contents of the file, and return it as a string."
   ]
  },
  {
   "cell_type": "markdown",
   "metadata": {},
   "source": [
    "We can also read the lines one by one using readlines() "
   ]
  },
  {
   "cell_type": "code",
   "execution_count": null,
   "metadata": {
    "collapsed": true
   },
   "outputs": [],
   "source": [
    "myfile = open(\"data/months.txt\")\n",
    "\n",
    "for month in myfile.readlines():\n",
    "    #strip() removes all whitespaces from string\n",
    "    print(\"Month: {}\".format(month.strip()))\n",
    "\n",
    "myfile.close()"
   ]
  },
  {
   "cell_type": "markdown",
   "metadata": {},
   "source": [
    "In fact, you don't even have to call readlines() - Python assumes that if you try to iterate through a text file with a for loop, you probably want to iterate through it line by line:"
   ]
  },
  {
   "cell_type": "code",
   "execution_count": null,
   "metadata": {},
   "outputs": [],
   "source": [
    "myfile = open(\"data/months.txt\")\n",
    "\n",
    "for month in myfile:\n",
    "    #strip() removes all whitespaces from string\n",
    "    print(\"Month: {}\".format(month.strip()))\n",
    "\n",
    "myfile.close()"
   ]
  },
  {
   "cell_type": "markdown",
   "metadata": {},
   "source": [
    "\n",
    "When you open() a file, you can optionally specify a file mode, which tells Python what you want to do with the file. The default mode is r for read, but another mode is w to write to a file.\n",
    "\n",
    "Tip: the write (w) mode will write completely new contents to a file, wiping out what it had previously!\n",
    "\n",
    "There are actually a whole lot of file modes, r and w are just the most common. Option 'a' will append to the end of the file.\n",
    "There is a <a href=\"https://docs.python.org/3/library/functions.html#open\">full list in the Python documentation for the open function</a> or you can type open? in IPython Notebook and run it to see the help displayed there.\n",
    "\n",
    "Lets open a new file and write something to it."
   ]
  },
  {
   "cell_type": "code",
   "execution_count": null,
   "metadata": {
    "collapsed": true
   },
   "outputs": [],
   "source": [
    "f = open(\"data/awesomenewfile.txt\", \"w\")\n",
    "f.write(\"Awesome message!\")\n",
    "f.close()"
   ]
  },
  {
   "cell_type": "code",
   "execution_count": null,
   "metadata": {
    "collapsed": true
   },
   "outputs": [],
   "source": [
    "f = open(\"data/awesomenewfile.txt\", \"r\")\n",
    "print(f.read())\n",
    "f.close()"
   ]
  },
  {
   "cell_type": "code",
   "execution_count": null,
   "metadata": {
    "collapsed": true
   },
   "outputs": [],
   "source": [
    "f = open(\"data/awesomenewfile.txt\", \"a\") # appending to file\n",
    "f.write(\"\\nAnother message!\") # \"\\n\" introduces a new line character\n",
    "f.close()\n",
    "\n",
    "f = open(\"data/awesomenewfile.txt\", \"r\")\n",
    "print(f.read())\n",
    "f.close()"
   ]
  },
  {
   "cell_type": "markdown",
   "metadata": {},
   "source": [
    "**Exercise** Insert December into months.txt file"
   ]
  },
  {
   "cell_type": "code",
   "execution_count": null,
   "metadata": {},
   "outputs": [],
   "source": [
    "#open the file in append mode\n",
    "myfile = \n",
    "\n",
    "#write into the file\n",
    "\n",
    "\n",
    "#Close the file\n",
    "myfile.close()"
   ]
  },
  {
   "cell_type": "markdown",
   "metadata": {},
   "source": [
    "### <span style=\"color:#0b486b\"> 4 Reading and Writing Files using Pandas\n",
    "\n",
    "We now introduce a powerful package called pandas to read the file from csv format. Using pandas, we can read and store data as a dataframe just like in R programming language. [You can read this section](http://pandas.pydata.org/pandas-docs/stable/10min.html) for a quick introduction to pandas. It is very simple. Read the contents of the csv file into a pandas dataframe."
   ]
  },
  {
   "cell_type": "code",
   "execution_count": null,
   "metadata": {
    "collapsed": true
   },
   "outputs": [],
   "source": [
    "#import pandas\n",
    "import pandas as pd"
   ]
  },
  {
   "cell_type": "markdown",
   "metadata": {},
   "source": [
    " Read the contents of the csv file into a pandas dataframe. Advertising.csv is a dataset which details about the advertising mediums that have contributed towards the sales of a product. It has got 3 feature, TV, Radio adn Newspaper. "
   ]
  },
  {
   "cell_type": "code",
   "execution_count": null,
   "metadata": {
    "collapsed": true
   },
   "outputs": [],
   "source": [
    "my_dataframe = pd.read_csv('data/Advertising.csv', delimiter=',') "
   ]
  },
  {
   "cell_type": "code",
   "execution_count": null,
   "metadata": {
    "collapsed": true
   },
   "outputs": [],
   "source": [
    "my_dataframe.head() # print the first 5 entries"
   ]
  },
  {
   "cell_type": "code",
   "execution_count": null,
   "metadata": {
    "collapsed": true
   },
   "outputs": [],
   "source": [
    "my_dataframe.tail() # print the first 5 entries"
   ]
  },
  {
   "cell_type": "markdown",
   "metadata": {},
   "source": [
    "In pandas, you can use the column name to access induvidual columns. Also you can combine the columns to form the feature matrix. "
   ]
  },
  {
   "cell_type": "code",
   "execution_count": null,
   "metadata": {
    "collapsed": true
   },
   "outputs": [],
   "source": [
    "feature_1 = my_dataframe.TV.values #  accessing a single column, .values convert the dataframe to a numpy array\n",
    "feature_2 = my_dataframe.Radio.values\n",
    "feature_3 = my_dataframe.Newspaper.values\n",
    "\n",
    "feature_cols = ['TV','Radio','Newspaper']\n",
    "\n",
    "x = my_dataframe[feature_cols].values \n",
    "y = my_dataframe.Sales.values\n",
    "\n",
    "print(feature_1.shape)\n",
    "print(feature_2.shape)\n",
    "print(feature_3.shape)\n",
    "\n",
    "\n",
    "print(x.shape)\n",
    "print(y.shape)"
   ]
  },
  {
   "cell_type": "markdown",
   "metadata": {},
   "source": [
    "You can write the data to a csv using pandas. "
   ]
  },
  {
   "cell_type": "code",
   "execution_count": null,
   "metadata": {
    "collapsed": true
   },
   "outputs": [],
   "source": [
    "my_dataframe.to_csv(\"data/file_write.csv\") # if the data is already in the dataframe format\n",
    "\n",
    "#if data is a numpy structure, then first convert it to dataframe and then write.\n",
    "np_array = my_dataframe.values   \n",
    "header_labels = ['TV','Radio','Newspaper','Sales']\n",
    "my_dataframe = pd.DataFrame(np_array) #if data is a numpy structure, then first convert it to dataframe and then write.\n",
    "my_dataframe.to_csv(\"data/file_write.csv\",  header = header_labels) #if header is there, pass it here."
   ]
  },
  {
   "cell_type": "markdown",
   "metadata": {},
   "source": [
    "## <span style=\"color:#0b486b\">6 Acknowledgement </span>\n",
    "\n",
    "Some of the materials are adapted from the course SIT112 By Prof. Dinh Phung."
   ]
  }
 ],
 "metadata": {
  "kernelspec": {
   "display_name": "Python 3",
   "language": "python",
   "name": "python3"
  },
  "language_info": {
   "codemirror_mode": {
    "name": "ipython",
    "version": 3
   },
   "file_extension": ".py",
   "mimetype": "text/x-python",
   "name": "python",
   "nbconvert_exporter": "python",
   "pygments_lexer": "ipython3",
   "version": "3.6.4"
  }
 },
 "nbformat": 4,
 "nbformat_minor": 1
}
