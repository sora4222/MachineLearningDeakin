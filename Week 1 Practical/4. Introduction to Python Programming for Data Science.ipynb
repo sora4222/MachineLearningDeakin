{
 "cells": [
  {
   "cell_type": "markdown",
   "metadata": {},
   "source": [
    "# <span style=\"color:#0b486b\">SIT307 - Data Mining and Machine Learning</span>\n",
    "\n",
    "---\n",
    "Lecturer:   Richard Dazeley     | richard.dazeley@deakin.edu.au<br />\n",
    "Assistant:  Adam Bignold | abignold@gmail.com\n",
    "\n",
    "School of Information Technology, <br />\n",
    "Deakin University, VIC 3216, Australia.\n",
    "\n",
    "\n",
    "---\n",
    "\n",
    "\n",
    "## <span style=\"color:#0b486b\">Practical Session 1: Python for Data Science</span>\n",
    "\n",
    "**Prerequisite**\n",
    "You should already have done, or be confident with the content of: \n",
    "1. [Python Environments](1. Introduction to Python Environments.pdf)\n",
    "2. [Jupyter Notebooks](2. Jupyter Notbook Introduction.pdf)\n",
    "3. [Markdown](5. Markdown.ipynb)\n",
    "4. [Basic Python](3. Introduction to Python Programming.ipynb)\n",
    "\n",
    "If not click on the above links for an introduction\n",
    "\n",
    "**The purpose of this session is:**\n",
    "\n",
    "1. Getting your feet wet with Python programming for Data Science. Demonstration of simple commands, numpy, IO, pandas etc\n",
    "2. Understanding how to read and write data to files\n",
    "\n",
    "**Instructions** \n",
    "\n",
    "1. After you download this notebook, save another copy and rename it so you keep your solution.\n",
    "2. As we walk through the notebook, you will be required to write your own code in the cells provided for you where necessary. Enter your own code in these cells.\n",
    "3. Although it is NOT marked, you are strongly recommended to keep these saved notebooks for your future reference.\n",
    "\n",
    "**Please note that**:\n",
    "* This unit is *not* about teaching you how to program in Python. You are responsible for developing your own programming skills. There are many excellent resources to learn python online as well as the recommended textbooks presented in the lecture.\n",
    "* Also note this file does not need to be submitted."
   ]
  },
  {
   "cell_type": "markdown",
   "metadata": {},
   "source": [
    "## <span style=\"color:#0b486b\">Numpy: Quick Introduction </span>\n",
    "Numpy library forms the core of many scientific packages. It offers support for arrays, matrices and related numerical calculations.\n",
    "\n",
    "In this tutorial we will review its basics, so to learn more about NumPy, visit [NumPy User Guide](http://docs.scipy.org/doc/numpy/user/index.html)"
   ]
  },
  {
   "cell_type": "markdown",
   "metadata": {},
   "source": [
    "### <span style=\"color:#0b486b\">1 Importing Numpy </span>\n",
    "To use any package, you must first import it. "
   ]
  },
  {
   "cell_type": "code",
   "execution_count": 1,
   "metadata": {},
   "outputs": [],
   "source": [
    "import numpy"
   ]
  },
  {
   "cell_type": "markdown",
   "metadata": {},
   "source": [
    "The default convention is to import numpy as:"
   ]
  },
  {
   "cell_type": "code",
   "execution_count": 2,
   "metadata": {},
   "outputs": [],
   "source": [
    "import numpy as np"
   ]
  },
  {
   "cell_type": "markdown",
   "metadata": {},
   "source": [
    "### <span style=\"color:#0b486b\">2 Numpy arrays</span>\n",
    "The core of NumPy is its arrays. You can create an array from a Python list or tuple using `'array'` function. They work similarly to lists apart from the fact that:\n",
    "\n",
    "* you can easily perform element-wise operation on them, and\n",
    "* unlike lists, they should be pre-allocated.\n",
    "\n",
    "The first point is further explained in [Array operations section](03-prac3.ipynb#Array-operations). The second point means that you there is no equivalent to list append for arrays. The size of the arrays is known at the time it is defined."
   ]
  },
  {
   "cell_type": "code",
   "execution_count": 3,
   "metadata": {},
   "outputs": [
    {
     "name": "stdout",
     "output_type": "stream",
     "text": [
      "<class 'numpy.ndarray'>\n",
      "(6,)\n"
     ]
    }
   ],
   "source": [
    "#create a list\n",
    "x = [1, 7, 3, 4, 0, -5]\n",
    "\n",
    "#convert it to an array\n",
    "y = np.array(x)\n",
    "print (type(y))\n",
    "print (y.shape)   # It returns a tuple of array dimensions"
   ]
  },
  {
   "cell_type": "markdown",
   "metadata": {},
   "source": [
    "Using numpy, we can specify a defined range of values to create a new array"
   ]
  },
  {
   "cell_type": "code",
   "execution_count": 4,
   "metadata": {},
   "outputs": [
    {
     "data": {
      "text/plain": [
       "range(0, 5)"
      ]
     },
     "execution_count": 4,
     "metadata": {},
     "output_type": "execute_result"
    }
   ],
   "source": [
    "range(5)"
   ]
  },
  {
   "cell_type": "code",
   "execution_count": 5,
   "metadata": {},
   "outputs": [
    {
     "name": "stdout",
     "output_type": "stream",
     "text": [
      "[4 5 6 7]\n"
     ]
    }
   ],
   "source": [
    "print(np.array(range(4,8)))"
   ]
  },
  {
   "cell_type": "code",
   "execution_count": 6,
   "metadata": {},
   "outputs": [
    {
     "name": "stdout",
     "output_type": "stream",
     "text": [
      "[2.  2.2 2.4 2.6 2.8]\n",
      "[2.   2.25 2.5  2.75 3.  ]\n",
      "[ 100.          177.827941    316.22776602  562.34132519 1000.        ]\n"
     ]
    }
   ],
   "source": [
    "print(np.arange(2, 3, 0.2))  # prints elements from 2 to 3 spaced by 0.2 units\n",
    "print(np.linspace(2, 3, 5))  # returns numbers spaced evenly on a linear scale, both endspoints are included\n",
    "print(np.logspace(2, 3, 5))  # returns numbers spaced evenly on a log scale"
   ]
  },
  {
   "cell_type": "markdown",
   "metadata": {},
   "source": [
    "Creating a an array filled with zeros of a patricular type and shape.\n"
   ]
  },
  {
   "cell_type": "code",
   "execution_count": 7,
   "metadata": {},
   "outputs": [
    {
     "name": "stdout",
     "output_type": "stream",
     "text": [
      "[0 0 0]\n"
     ]
    }
   ],
   "source": [
    "print(np.zeros(shape=(3,), dtype=np.int))"
   ]
  },
  {
   "cell_type": "markdown",
   "metadata": {},
   "source": [
    "Creating a an array filled with ones of a patricular type and shape.\n"
   ]
  },
  {
   "cell_type": "code",
   "execution_count": 8,
   "metadata": {},
   "outputs": [
    {
     "name": "stdout",
     "output_type": "stream",
     "text": [
      "[1 1 1]\n"
     ]
    }
   ],
   "source": [
    "print(np.ones(shape=(3,), dtype=np.int))"
   ]
  },
  {
   "cell_type": "markdown",
   "metadata": {},
   "source": [
    "We can reshape an array to a new specified shape keeping its contents.\n",
    "\n"
   ]
  },
  {
   "cell_type": "code",
   "execution_count": 9,
   "metadata": {},
   "outputs": [
    {
     "name": "stdout",
     "output_type": "stream",
     "text": [
      "[[1 2]\n",
      " [3 4]]\n",
      "[1 2 3 4]\n"
     ]
    }
   ],
   "source": [
    "a = np.array([[1,2], [3,4]])\n",
    "print(a)\n",
    "\n",
    "a = np.reshape(a, 4)\n",
    "print(a)"
   ]
  },
  {
   "cell_type": "markdown",
   "metadata": {},
   "source": [
    "We can append values to the end of an array."
   ]
  },
  {
   "cell_type": "code",
   "execution_count": 10,
   "metadata": {},
   "outputs": [
    {
     "name": "stdout",
     "output_type": "stream",
     "text": [
      "[1 2 3]\n",
      "[1 2 3 4]\n"
     ]
    }
   ],
   "source": [
    "a = np.array([1,2,3])\n",
    "print(a)\n",
    "a = np.append(a,[4])\n",
    "print(a)"
   ]
  },
  {
   "cell_type": "markdown",
   "metadata": {},
   "source": [
    "We can stack arrays horizontally (columnwise) using numpy.\n"
   ]
  },
  {
   "cell_type": "code",
   "execution_count": 11,
   "metadata": {},
   "outputs": [
    {
     "name": "stdout",
     "output_type": "stream",
     "text": [
      "shape of a is  (3,) and the contents are [1 2 3]\n",
      "shape of b is  (3,)  and the contents are [2 3 4]\n",
      "shape of new array is  (6,)  and the contents are [1 2 3 2 3 4]\n"
     ]
    }
   ],
   "source": [
    "a = np.array([1, 2, 3])\n",
    "print(\"shape of a is \" , a.shape, \"and the contents are\",a)\n",
    "b = np.array([2, 3, 4])\n",
    "print(\"shape of b is \" , b.shape, \" and the contents are\",b)\n",
    "stacked = np.hstack((a,b)) #horizontally\n",
    "print(\"shape of new array is \" , stacked.shape, \" and the contents are\",stacked) "
   ]
  },
  {
   "cell_type": "markdown",
   "metadata": {},
   "source": [
    "We can also stack arrays vertically (rowwise) using numpy."
   ]
  },
  {
   "cell_type": "code",
   "execution_count": 12,
   "metadata": {},
   "outputs": [
    {
     "name": "stdout",
     "output_type": "stream",
     "text": [
      "shape of a is  (3,) and the contents are [1 2 3]\n",
      "shape of b is  (3,)  and the contents are [2 3 4]\n",
      "shape of new array is  (2, 3)  and the contents are [[1 2 3]\n",
      " [2 3 4]]\n"
     ]
    }
   ],
   "source": [
    "a = np.array([1, 2, 3])\n",
    "print(\"shape of a is \" , a.shape, \"and the contents are\",a)\n",
    "b = np.array([2, 3, 4])\n",
    "print(\"shape of b is \" , b.shape, \" and the contents are\",b)\n",
    "stacked = np.vstack((a,b)) #vertically\n",
    "print(\"shape of new array is \" , stacked.shape, \" and the contents are\",stacked)"
   ]
  },
  {
   "cell_type": "markdown",
   "metadata": {},
   "source": [
    "We can create a matrix from an array-like object, or from a string of data. A matrix is a  2D array. "
   ]
  },
  {
   "cell_type": "code",
   "execution_count": 15,
   "metadata": {},
   "outputs": [
    {
     "name": "stdout",
     "output_type": "stream",
     "text": [
      "shape is (2, 2) and contents are [[1 2]\n",
      " [3 4]]\n",
      "shape is (2, 2) and contents are [[1 2]\n",
      " [3 4]]\n",
      "<class 'numpy.matrixlib.defmatrix.matrix'>\n"
     ]
    }
   ],
   "source": [
    "a = np.matrix('1 2; 3 4') #string of data\n",
    "print(\"shape is\" ,a.shape, \"and contents are\", a)\n",
    "\n",
    "a = np.matrix([[1, 2], [3, 4]]) #array-like structure\n",
    "print(\"shape is\" ,a.shape, \"and contents are\", a)\n",
    "print(type(a))"
   ]
  },
  {
   "cell_type": "markdown",
   "metadata": {},
   "source": [
    "Create an identity matrix using numpy. it is a square array with ones on the main diagonal."
   ]
  },
  {
   "cell_type": "code",
   "execution_count": 16,
   "metadata": {},
   "outputs": [
    {
     "name": "stdout",
     "output_type": "stream",
     "text": [
      "shape is (3, 3) and contents are\n",
      "[[1. 0. 0.]\n",
      " [0. 1. 0.]\n",
      " [0. 0. 1.]]\n"
     ]
    }
   ],
   "source": [
    "a = np.identity(3)\n",
    "print(\"shape is\" ,a.shape, \"and contents are\")\n",
    "print(a)"
   ]
  },
  {
   "cell_type": "markdown",
   "metadata": {},
   "source": [
    "We can find dot product of two arrays using numpy."
   ]
  },
  {
   "cell_type": "code",
   "execution_count": 17,
   "metadata": {},
   "outputs": [
    {
     "name": "stdout",
     "output_type": "stream",
     "text": [
      "12\n",
      "()\n",
      "[[4 1]\n",
      " [2 2]]\n",
      "(2, 2)\n"
     ]
    }
   ],
   "source": [
    "c =  np.dot(3, 4)\n",
    "print(c)\n",
    "print(c.shape)\n",
    "\n",
    "a = [[1, 0], [0, 1]] #2D array \n",
    "b = [[4, 1], [2, 2]] #2D array\n",
    "c = np.dot(a, b)  # matrix multiplication\n",
    "\n",
    "print(c)\n",
    "print(c.shape)"
   ]
  },
  {
   "cell_type": "markdown",
   "metadata": {},
   "source": [
    "We can compute the arithmetic sum, mean and standard deviation using numpy."
   ]
  },
  {
   "cell_type": "code",
   "execution_count": 18,
   "metadata": {},
   "outputs": [
    {
     "name": "stdout",
     "output_type": "stream",
     "text": [
      "10\n",
      "[4 6]\n",
      "[3 7]\n",
      "2.5\n",
      "[2. 3.]\n",
      "[1.5 3.5]\n",
      "1.118033988749895\n",
      "[1. 1.]\n",
      "[0.5 0.5]\n"
     ]
    }
   ],
   "source": [
    "a = np.array([[1, 2], [3, 4]])\n",
    "print(np.sum(a)) # no axis specified\n",
    "print(np.sum(a, axis=0)) #along a specified axis (across columns)\n",
    "print(np.sum(a, axis=1)) #along a specified axis (across rows)\n",
    "\n",
    "print(np.mean(a))         # no axis specified\n",
    "print(np.mean(a, axis=0)) #along a specified axis (across columns)\n",
    "print(np.mean(a, axis=1)) #along a specified axis (across rows)\n",
    "\n",
    "print(np.std(a))         # no axis specified\n",
    "print(np.std(a, axis=0)) #along a specified axis (across columns)\n",
    "print(np.std(a, axis=1)) #along a specified axis (across rows)"
   ]
  },
  {
   "cell_type": "markdown",
   "metadata": {},
   "source": [
    "We can also find the cumulative sum of the array along a given axis."
   ]
  },
  {
   "cell_type": "code",
   "execution_count": 19,
   "metadata": {},
   "outputs": [
    {
     "name": "stdout",
     "output_type": "stream",
     "text": [
      "[ 1  3  6 10]\n",
      "[[1 2]\n",
      " [4 6]]\n",
      "[[1 3]\n",
      " [3 7]]\n"
     ]
    }
   ],
   "source": [
    "print(np.cumsum(a)) # no axis specified\n",
    "print(np.cumsum(a, axis=0)) #along a specified axis (across columns)\n",
    "print(np.cumsum(a, axis=1)) #along a specified axis (across rows)"
   ]
  },
  {
   "cell_type": "markdown",
   "metadata": {},
   "source": [
    "Using numpy, we can select the unique element and its index from an array."
   ]
  },
  {
   "cell_type": "code",
   "execution_count": 20,
   "metadata": {},
   "outputs": [
    {
     "name": "stdout",
     "output_type": "stream",
     "text": [
      "the unique elements are  [1 2 3]\n",
      "the unique elements are  [1 2 3]\n",
      "the unique elements are  ['a' 'b' 'c']\n",
      "corresponding indices of unique elements are  [0 1 3]\n"
     ]
    }
   ],
   "source": [
    "print(\"the unique elements are \",  np.unique([1, 1, 2, 2, 3, 3]))\n",
    "\n",
    "a = np.array([[1, 1], [2, 3]])\n",
    "print(\"the unique elements are \", np.unique(a))\n",
    " \n",
    "a = np.array(['a', 'b', 'b', 'c', 'a'])\n",
    "u, indices = np.unique(a, return_index=True) #Return the indices of the original array that give the unique values:\n",
    "print(\"the unique elements are \", u)\n",
    "print(\"corresponding indices of unique elements are \", indices)"
   ]
  },
  {
   "cell_type": "markdown",
   "metadata": {},
   "source": [
    "We can use numpy to create coordinate matrices from coordinate vectors.\n",
    "\n",
    "It allows us to make N-D coordinate arrays for vectorized evaluations of N-D scalar/vector fields over N-D grids, given one-dimensional coordinate arrays.\n",
    "meshgrid is very useful to evaluate functions on a grid."
   ]
  },
  {
   "cell_type": "code",
   "execution_count": 21,
   "metadata": {},
   "outputs": [
    {
     "name": "stdout",
     "output_type": "stream",
     "text": [
      "[[0.  0.5 1. ]\n",
      " [0.  0.5 1. ]]\n",
      "[[0. 0. 0.]\n",
      " [1. 1. 1.]]\n"
     ]
    }
   ],
   "source": [
    "nx, ny = (3, 2)\n",
    "x = np.linspace(0, 1, nx)\n",
    "y = np.linspace(0, 1, ny)\n",
    "xv, yv = np.meshgrid(x, y)\n",
    "print(xv)\n",
    "print(yv)"
   ]
  },
  {
   "cell_type": "markdown",
   "metadata": {},
   "source": [
    "NumPy has a module called `random` to generate arrays of random numbers. There are different ways to generate a random number:"
   ]
  },
  {
   "cell_type": "code",
   "execution_count": 22,
   "metadata": {},
   "outputs": [
    {
     "name": "stdout",
     "output_type": "stream",
     "text": [
      "0.3987693744897487\n"
     ]
    }
   ],
   "source": [
    "print(np.random.rand())"
   ]
  },
  {
   "cell_type": "markdown",
   "metadata": {},
   "source": [
    "Generate a 3x5 matrix of random numbers"
   ]
  },
  {
   "cell_type": "code",
   "execution_count": 23,
   "metadata": {},
   "outputs": [
    {
     "name": "stdout",
     "output_type": "stream",
     "text": [
      "[[0.29893133 0.78408361 0.03634672 0.12069921 0.5071267 ]\n",
      " [0.53775994 0.5798346  0.79908142 0.66368347 0.22510086]\n",
      " [0.14812037 0.90160382 0.46888814 0.79582748 0.96996531]]\n"
     ]
    }
   ],
   "source": [
    "print(np.random.rand(3,5))"
   ]
  },
  {
   "cell_type": "markdown",
   "metadata": {},
   "source": [
    "We can fix the seed of the random number generator. Execute the previous cell more than one time and see the numbers changing randomly. In the below cell, once the seed is fixed, the numbers once sampled will not change. Seeding is especially used for debugging the programs generating the smae sequence. "
   ]
  },
  {
   "cell_type": "code",
   "execution_count": 24,
   "metadata": {},
   "outputs": [
    {
     "name": "stdout",
     "output_type": "stream",
     "text": [
      "[[0.98327624 0.67203312 0.4011776  0.69558053 0.32129032]\n",
      " [0.71925524 0.45756878 0.10529666 0.27997192 0.23103873]\n",
      " [0.31673018 0.1185252  0.9309961  0.99919028 0.29512144]]\n"
     ]
    }
   ],
   "source": [
    "np.random.seed(2348) #seeding\n",
    "print(np.random.rand(3,5))"
   ]
  },
  {
   "cell_type": "markdown",
   "metadata": {},
   "source": [
    "We can drawrandom samples from a multivariate normal distribution using numpy."
   ]
  },
  {
   "cell_type": "code",
   "execution_count": 25,
   "metadata": {},
   "outputs": [
    {
     "name": "stdout",
     "output_type": "stream",
     "text": [
      "[[ 0.09366454  1.77324259]\n",
      " [-0.27918685  1.12199843]\n",
      " [ 1.73768448  2.56096665]\n",
      " [ 1.28008507  3.53022107]\n",
      " [ 1.27834105  3.04829383]]\n",
      "(5, 2)\n"
     ]
    }
   ],
   "source": [
    "mean = (1, 2)   #arithmetic mean\n",
    "cov = [[1, 0], [0, 1]] #covaraince \n",
    "x = np.random.multivariate_normal(mean, cov, (5))\n",
    "print(x)\n",
    "print(x.shape)"
   ]
  },
  {
   "cell_type": "markdown",
   "metadata": {},
   "source": [
    "We can compute eigen vector and eigen values using numpy.\n"
   ]
  },
  {
   "cell_type": "code",
   "execution_count": 26,
   "metadata": {},
   "outputs": [
    {
     "name": "stdout",
     "output_type": "stream",
     "text": [
      "eigen values are : [1. 2. 3.]\n",
      "eigen vectors are : [[1. 0. 0.]\n",
      " [0. 1. 0.]\n",
      " [0. 0. 1.]]\n"
     ]
    }
   ],
   "source": [
    "w, v = np.linalg.eig(np.diag((1, 2, 3)))\n",
    "print(\"eigen values are :\", w)\n",
    "print(\"eigen vectors are :\", v)"
   ]
  },
  {
   "cell_type": "markdown",
   "metadata": {},
   "source": [
    "We can take the inverse of a matrix using numpy. "
   ]
  },
  {
   "cell_type": "code",
   "execution_count": 27,
   "metadata": {},
   "outputs": [
    {
     "name": "stdout",
     "output_type": "stream",
     "text": [
      "[[-0.18224635 -0.33658043]\n",
      " [-1.40480972  0.85644879]\n",
      " [-1.22050184  0.20790177]]\n",
      "[[-0.5427826  -0.04731245 -0.68382926]\n",
      " [-1.22926316  0.88810039 -0.83865775]]\n"
     ]
    }
   ],
   "source": [
    "a = np.random.randn(3, 2)\n",
    "print(a)\n",
    "b = np.linalg.pinv(a)\n",
    "print(b)"
   ]
  },
  {
   "cell_type": "markdown",
   "metadata": {
    "collapsed": true
   },
   "source": [
    "We can compute the norm of a matrix or vector using numpy."
   ]
  },
  {
   "cell_type": "code",
   "execution_count": 28,
   "metadata": {},
   "outputs": [
    {
     "name": "stdout",
     "output_type": "stream",
     "text": [
      "[-4.         -2.85714286 -1.71428571 -0.57142857  0.57142857  1.71428571\n",
      "  2.85714286  4.        ]\n",
      "7.406560798180411\n",
      "18.285714285714285\n",
      "7.406560798180411\n"
     ]
    }
   ],
   "source": [
    "a = np.linspace(-4, 4, num=8)\n",
    "print(a)\n",
    "print(np.linalg.norm(a)) # frobeinus norm\n",
    "print(np.linalg.norm(a,1)) # 1 norm\n",
    "print(np.linalg.norm(a,2)) # 2 norm"
   ]
  },
  {
   "cell_type": "markdown",
   "metadata": {},
   "source": [
    "We list some miscellaneous function that you might encounter further down the path."
   ]
  },
  {
   "cell_type": "code",
   "execution_count": 29,
   "metadata": {},
   "outputs": [
    {
     "name": "stdout",
     "output_type": "stream",
     "text": [
      "1.0\n",
      "0.0\n",
      "1.0\n"
     ]
    }
   ],
   "source": [
    "import numpy as np\n",
    "print(np.exp(0))  #exponential function\n",
    "print(np.sin(0)) #sine funciton\n",
    "print(np.cos(0)) #cosine function"
   ]
  },
  {
   "cell_type": "markdown",
   "metadata": {},
   "source": [
    "**Note**: If you need any help on how to use a function or what it does, you can IPython help. Just add a question mark (?) at the end of the function and execute the cell:"
   ]
  },
  {
   "cell_type": "markdown",
   "metadata": {},
   "source": [
    "### <span style=\"color:#0b486b\">3 File Input and Output </span>\n",
    "Here we will demonstrate reading, updating and writing files.  In many cases the data you need to work with is stored in files. Real world data usually appears in a file of some type such as txt, csv, xml, json, or so.\n"
   ]
  },
  {
   "cell_type": "markdown",
   "metadata": {},
   "source": [
    "### 3.1 Reading and Writing Files\n",
    "Now, let us read a text file already stored in the directory. "
   ]
  },
  {
   "cell_type": "code",
   "execution_count": 30,
   "metadata": {},
   "outputs": [
    {
     "name": "stdout",
     "output_type": "stream",
     "text": [
      "Month\n",
      "January \n",
      "Februay \n",
      "March\n",
      "April\n",
      "May\n",
      "June\n",
      "July\n",
      "August\n",
      "September\n",
      "October\n",
      "November\n",
      "\n"
     ]
    }
   ],
   "source": [
    "myfile = open(\"data/months.txt\")\n",
    "print(myfile.read())\n",
    "myfile.close()"
   ]
  },
  {
   "cell_type": "markdown",
   "metadata": {},
   "source": [
    "Here, open() creates a file object (a way of getting at the contents of the file), which is then stored in the variable myfile. myfile.read() tells the file object to read the full contents of the file, and return it as a string."
   ]
  },
  {
   "cell_type": "markdown",
   "metadata": {},
   "source": [
    "We can also read the lines one by one using readlines() "
   ]
  },
  {
   "cell_type": "code",
   "execution_count": 31,
   "metadata": {},
   "outputs": [
    {
     "name": "stdout",
     "output_type": "stream",
     "text": [
      "Month: Month\n",
      "Month: January\n",
      "Month: Februay\n",
      "Month: March\n",
      "Month: April\n",
      "Month: May\n",
      "Month: June\n",
      "Month: July\n",
      "Month: August\n",
      "Month: September\n",
      "Month: October\n",
      "Month: November\n"
     ]
    }
   ],
   "source": [
    "myfile = open(\"data/months.txt\")\n",
    "\n",
    "for month in myfile.readlines():\n",
    "    #strip() removes all whitespaces from string\n",
    "    print(\"Month: {}\".format(month.strip()))\n",
    "\n",
    "myfile.close()"
   ]
  },
  {
   "cell_type": "markdown",
   "metadata": {},
   "source": [
    "In fact, you don't even have to call readlines() - Python assumes that if you try to iterate through a text file with a for loop, you probably want to iterate through it line by line:"
   ]
  },
  {
   "cell_type": "code",
   "execution_count": 32,
   "metadata": {},
   "outputs": [
    {
     "name": "stdout",
     "output_type": "stream",
     "text": [
      "Month: Month\n",
      "Month: January\n",
      "Month: Februay\n",
      "Month: March\n",
      "Month: April\n",
      "Month: May\n",
      "Month: June\n",
      "Month: July\n",
      "Month: August\n",
      "Month: September\n",
      "Month: October\n",
      "Month: November\n"
     ]
    }
   ],
   "source": [
    "myfile = open(\"data/months.txt\")\n",
    "\n",
    "for month in myfile:\n",
    "    #strip() removes all whitespaces from string\n",
    "    print(\"Month: {}\".format(month.strip()))\n",
    "\n",
    "myfile.close()"
   ]
  },
  {
   "cell_type": "markdown",
   "metadata": {},
   "source": [
    "\n",
    "When you open() a file, you can optionally specify a file mode, which tells Python what you want to do with the file. The default mode is r for read, but another mode is w to write to a file.\n",
    "\n",
    "Tip: the write (w) mode will write completely new contents to a file, wiping out what it had previously!\n",
    "\n",
    "There are actually a whole lot of file modes, r and w are just the most common. Option 'a' will append to the end of the file.\n",
    "There is a <a href=\"https://docs.python.org/3/library/functions.html#open\">full list in the Python documentation for the open function</a> or you can type open? in IPython Notebook and run it to see the help displayed there.\n",
    "\n",
    "Lets open a new file and write something to it."
   ]
  },
  {
   "cell_type": "code",
   "execution_count": null,
   "metadata": {
    "collapsed": true
   },
   "outputs": [],
   "source": [
    "f = open(\"data/awesomenewfile.txt\", \"w\")\n",
    "f.write(\"Awesome message!\")\n",
    "f.close()"
   ]
  },
  {
   "cell_type": "code",
   "execution_count": null,
   "metadata": {
    "collapsed": true
   },
   "outputs": [],
   "source": [
    "f = open(\"data/awesomenewfile.txt\", \"r\")\n",
    "print(f.read())\n",
    "f.close()"
   ]
  },
  {
   "cell_type": "code",
   "execution_count": null,
   "metadata": {
    "collapsed": true
   },
   "outputs": [],
   "source": [
    "f = open(\"data/awesomenewfile.txt\", \"a\") # appending to file\n",
    "f.write(\"\\nAnother message!\") # \"\\n\" introduces a new line character\n",
    "f.close()\n",
    "\n",
    "f = open(\"data/awesomenewfile.txt\", \"r\")\n",
    "print(f.read())\n",
    "f.close()"
   ]
  },
  {
   "cell_type": "markdown",
   "metadata": {},
   "source": [
    "**Exercise** Insert December into months.txt file"
   ]
  },
  {
   "cell_type": "code",
   "execution_count": null,
   "metadata": {},
   "outputs": [],
   "source": [
    "#open the file in append mode\n",
    "myfile = \n",
    "\n",
    "#write into the file\n",
    "\n",
    "\n",
    "#Close the file\n",
    "myfile.close()"
   ]
  },
  {
   "cell_type": "markdown",
   "metadata": {},
   "source": [
    "### <span style=\"color:#0b486b\"> 4 Reading and Writing Files using Pandas\n",
    "\n",
    "We now introduce a powerful package called pandas to read the file from csv format. Using pandas, we can read and store data as a dataframe just like in R programming language. [You can read this section](http://pandas.pydata.org/pandas-docs/stable/10min.html) for a quick introduction to pandas. It is very simple. Read the contents of the csv file into a pandas dataframe."
   ]
  },
  {
   "cell_type": "code",
   "execution_count": 33,
   "metadata": {},
   "outputs": [],
   "source": [
    "#import pandas\n",
    "import pandas as pd"
   ]
  },
  {
   "cell_type": "markdown",
   "metadata": {},
   "source": [
    " Read the contents of the csv file into a pandas dataframe. Advertising.csv is a dataset which details about the advertising mediums that have contributed towards the sales of a product. It has got 3 feature, TV, Radio adn Newspaper. "
   ]
  },
  {
   "cell_type": "code",
   "execution_count": 34,
   "metadata": {},
   "outputs": [],
   "source": [
    "my_dataframe = pd.read_csv('data/Advertising.csv', delimiter=',') "
   ]
  },
  {
   "cell_type": "code",
   "execution_count": 35,
   "metadata": {},
   "outputs": [
    {
     "data": {
      "text/html": [
       "<div>\n",
       "<style scoped>\n",
       "    .dataframe tbody tr th:only-of-type {\n",
       "        vertical-align: middle;\n",
       "    }\n",
       "\n",
       "    .dataframe tbody tr th {\n",
       "        vertical-align: top;\n",
       "    }\n",
       "\n",
       "    .dataframe thead th {\n",
       "        text-align: right;\n",
       "    }\n",
       "</style>\n",
       "<table border=\"1\" class=\"dataframe\">\n",
       "  <thead>\n",
       "    <tr style=\"text-align: right;\">\n",
       "      <th></th>\n",
       "      <th>TV</th>\n",
       "      <th>Radio</th>\n",
       "      <th>Newspaper</th>\n",
       "      <th>Sales</th>\n",
       "    </tr>\n",
       "  </thead>\n",
       "  <tbody>\n",
       "    <tr>\n",
       "      <th>0</th>\n",
       "      <td>230.1</td>\n",
       "      <td>37.8</td>\n",
       "      <td>69.2</td>\n",
       "      <td>22.1</td>\n",
       "    </tr>\n",
       "    <tr>\n",
       "      <th>1</th>\n",
       "      <td>44.5</td>\n",
       "      <td>39.3</td>\n",
       "      <td>45.1</td>\n",
       "      <td>10.4</td>\n",
       "    </tr>\n",
       "    <tr>\n",
       "      <th>2</th>\n",
       "      <td>17.2</td>\n",
       "      <td>45.9</td>\n",
       "      <td>69.3</td>\n",
       "      <td>9.3</td>\n",
       "    </tr>\n",
       "    <tr>\n",
       "      <th>3</th>\n",
       "      <td>151.5</td>\n",
       "      <td>41.3</td>\n",
       "      <td>58.5</td>\n",
       "      <td>18.5</td>\n",
       "    </tr>\n",
       "    <tr>\n",
       "      <th>4</th>\n",
       "      <td>180.8</td>\n",
       "      <td>10.8</td>\n",
       "      <td>58.4</td>\n",
       "      <td>12.9</td>\n",
       "    </tr>\n",
       "  </tbody>\n",
       "</table>\n",
       "</div>"
      ],
      "text/plain": [
       "      TV  Radio  Newspaper  Sales\n",
       "0  230.1   37.8       69.2   22.1\n",
       "1   44.5   39.3       45.1   10.4\n",
       "2   17.2   45.9       69.3    9.3\n",
       "3  151.5   41.3       58.5   18.5\n",
       "4  180.8   10.8       58.4   12.9"
      ]
     },
     "execution_count": 35,
     "metadata": {},
     "output_type": "execute_result"
    }
   ],
   "source": [
    "my_dataframe.head() # print the first 5 entries"
   ]
  },
  {
   "cell_type": "code",
   "execution_count": 36,
   "metadata": {},
   "outputs": [
    {
     "data": {
      "text/html": [
       "<div>\n",
       "<style scoped>\n",
       "    .dataframe tbody tr th:only-of-type {\n",
       "        vertical-align: middle;\n",
       "    }\n",
       "\n",
       "    .dataframe tbody tr th {\n",
       "        vertical-align: top;\n",
       "    }\n",
       "\n",
       "    .dataframe thead th {\n",
       "        text-align: right;\n",
       "    }\n",
       "</style>\n",
       "<table border=\"1\" class=\"dataframe\">\n",
       "  <thead>\n",
       "    <tr style=\"text-align: right;\">\n",
       "      <th></th>\n",
       "      <th>TV</th>\n",
       "      <th>Radio</th>\n",
       "      <th>Newspaper</th>\n",
       "      <th>Sales</th>\n",
       "    </tr>\n",
       "  </thead>\n",
       "  <tbody>\n",
       "    <tr>\n",
       "      <th>195</th>\n",
       "      <td>38.2</td>\n",
       "      <td>3.7</td>\n",
       "      <td>13.8</td>\n",
       "      <td>7.6</td>\n",
       "    </tr>\n",
       "    <tr>\n",
       "      <th>196</th>\n",
       "      <td>94.2</td>\n",
       "      <td>4.9</td>\n",
       "      <td>8.1</td>\n",
       "      <td>9.7</td>\n",
       "    </tr>\n",
       "    <tr>\n",
       "      <th>197</th>\n",
       "      <td>177.0</td>\n",
       "      <td>9.3</td>\n",
       "      <td>6.4</td>\n",
       "      <td>12.8</td>\n",
       "    </tr>\n",
       "    <tr>\n",
       "      <th>198</th>\n",
       "      <td>283.6</td>\n",
       "      <td>42.0</td>\n",
       "      <td>66.2</td>\n",
       "      <td>25.5</td>\n",
       "    </tr>\n",
       "    <tr>\n",
       "      <th>199</th>\n",
       "      <td>232.1</td>\n",
       "      <td>8.6</td>\n",
       "      <td>8.7</td>\n",
       "      <td>13.4</td>\n",
       "    </tr>\n",
       "  </tbody>\n",
       "</table>\n",
       "</div>"
      ],
      "text/plain": [
       "        TV  Radio  Newspaper  Sales\n",
       "195   38.2    3.7       13.8    7.6\n",
       "196   94.2    4.9        8.1    9.7\n",
       "197  177.0    9.3        6.4   12.8\n",
       "198  283.6   42.0       66.2   25.5\n",
       "199  232.1    8.6        8.7   13.4"
      ]
     },
     "execution_count": 36,
     "metadata": {},
     "output_type": "execute_result"
    }
   ],
   "source": [
    "my_dataframe.tail() # print the first 5 entries"
   ]
  },
  {
   "cell_type": "markdown",
   "metadata": {},
   "source": [
    "In pandas, you can use the column name to access induvidual columns. Also you can combine the columns to form the feature matrix. "
   ]
  },
  {
   "cell_type": "code",
   "execution_count": 37,
   "metadata": {},
   "outputs": [
    {
     "name": "stdout",
     "output_type": "stream",
     "text": [
      "(200,)\n",
      "(200,)\n",
      "(200,)\n",
      "(200, 3)\n",
      "(200,)\n"
     ]
    }
   ],
   "source": [
    "feature_1 = my_dataframe.TV.values #  accessing a single column, .values convert the dataframe to a numpy array\n",
    "feature_2 = my_dataframe.Radio.values\n",
    "feature_3 = my_dataframe.Newspaper.values\n",
    "\n",
    "feature_cols = ['TV','Radio','Newspaper']\n",
    "\n",
    "x = my_dataframe[feature_cols].values \n",
    "y = my_dataframe.Sales.values\n",
    "\n",
    "print(feature_1.shape)\n",
    "print(feature_2.shape)\n",
    "print(feature_3.shape)\n",
    "\n",
    "\n",
    "print(x.shape)\n",
    "print(y.shape)"
   ]
  },
  {
   "cell_type": "markdown",
   "metadata": {},
   "source": [
    "You can write the data to a csv using pandas. "
   ]
  },
  {
   "cell_type": "code",
   "execution_count": null,
   "metadata": {
    "collapsed": true
   },
   "outputs": [],
   "source": [
    "my_dataframe.to_csv(\"data/file_write.csv\") # if the data is already in the dataframe format\n",
    "\n",
    "#if data is a numpy structure, then first convert it to dataframe and then write.\n",
    "np_array = my_dataframe.values   \n",
    "header_labels = ['TV','Radio','Newspaper','Sales']\n",
    "my_dataframe = pd.DataFrame(np_array) #if data is a numpy structure, then first convert it to dataframe and then write.\n",
    "my_dataframe.to_csv(\"data/file_write.csv\",  header = header_labels) #if header is there, pass it here."
   ]
  },
  {
   "cell_type": "markdown",
   "metadata": {},
   "source": [
    "## <span style=\"color:#0b486b\">6 Acknowledgement </span>\n",
    "\n",
    "Some of the materials are adapted from the course SIT112 By Prof. Dinh Phung."
   ]
  }
 ],
 "metadata": {
  "kernelspec": {
   "display_name": "Python 3",
   "language": "python",
   "name": "python3"
  },
  "language_info": {
   "codemirror_mode": {
    "name": "ipython",
    "version": 3
   },
   "file_extension": ".py",
   "mimetype": "text/x-python",
   "name": "python",
   "nbconvert_exporter": "python",
   "pygments_lexer": "ipython3",
   "version": "3.6.4"
  }
 },
 "nbformat": 4,
 "nbformat_minor": 1
}
