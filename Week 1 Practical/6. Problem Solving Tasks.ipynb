{
 "cells": [
  {
   "cell_type": "markdown",
   "metadata": {},
   "source": [
    "# <span style=\"color:#0b486b\">SIT307 - Data Mining and Machine Learning</span>\n",
    "\n",
    "---\n",
    "Lecturer:   Richard Dazeley     | richard.dazeley@deakin.edu.au<br />\n",
    "Assistant:  Adam Bignold | abignold@gmail.com\n",
    "\n",
    "School of Information Technology, <br />\n",
    "Deakin University, VIC 3216, Australia.\n",
    "\n",
    "\n",
    "---\n",
    "\n",
    "\n",
    "## <span style=\"color:#0b486b\">Practical Session 1: Problem Solving Task</span>\n",
    "\n",
    "**Prerequisite**\n",
    "You should already have done, or be confident with the content of: \n",
    "1. [Python Environments](1. Introduction to Python Environments.pdf)\n",
    "2. [Jupyter Notebooks](2. Jupyter Notbook Introduction.pdf)\n",
    "3. [Markdown](5. Markdown.ipynb)\n",
    "4. [Basic Python](3. Introduction to Python Programming.ipynb)\n",
    "5. [Python for Data Science](4. Introduction to Python Programming for Data Science.ipynb)\n",
    "\n",
    "If not click on the above links for an introduction\n",
    "\n",
    "**The purpose of this session is:**\n",
    "\n",
    "1. Test you basic python skills with some simple exercises\n",
    "\n",
    "**Instructions** \n",
    "\n",
    "1. After you download this notebook, save it as another copy and rename it to `\"[yourstudentID]_Week_1_problem_solving_Tasks.ipynb\"`\n",
    "2. fill in the code cells indicated with your own solution. You can discuss approaches with other students but must only submit your own original solution. \n",
    "3. Indicate any sections that use external sources.\n",
    "4. Submit this file as part of your Assignment 1: Problem Solving Tasks"
   ]
  },
  {
   "cell_type": "markdown",
   "metadata": {},
   "source": [
    "**Exercise 1:** Create and print an array with values ranging from 10 to 50 (inclusive) then reverse and print that array again (the first element becomes the last)"
   ]
  },
  {
   "cell_type": "code",
   "execution_count": 7,
   "metadata": {},
   "outputs": [
    {
     "name": "stdout",
     "output_type": "stream",
     "text": [
      "[10 11 12 13 14 15 16 17 18 19 20 21 22 23 24 25 26 27 28 29 30 31 32 33\n",
      " 34 35 36 37 38 39 40 41 42 43 44 45 46 47 48 49 50]\n",
      "[50 49 48 47 46 45 44 43 42 41 40 39 38 37 36 35 34 33 32 31 30 29 28 27\n",
      " 26 25 24 23 22 21 20 19 18 17 16 15 14 13 12 11 10]\n"
     ]
    }
   ],
   "source": [
    "import numpy as np\n",
    "first_array = np.array(range(10, 51))\n",
    "print(first_array)\n",
    "second_array = first_array[::-1]\n",
    "print(second_array)"
   ]
  },
  {
   "cell_type": "markdown",
   "metadata": {},
   "source": [
    "**Exercise 2:** Create a random array of size 10, print the maximum value and its index, and replace that value by 0. Finally print the full array. Hint: Using max and argmax functions"
   ]
  },
  {
   "cell_type": "code",
   "execution_count": 11,
   "metadata": {},
   "outputs": [
    {
     "name": "stdout",
     "output_type": "stream",
     "text": [
      "max of array: 0.9411316617837105, at index 2\n",
      "[0.29865199 0.11305469 0.         0.19246258 0.30622275 0.13595387\n",
      " 0.16060817 0.00831186 0.16310876 0.4806096 ]\n"
     ]
    }
   ],
   "source": [
    "random_array = np.random.random(size=10)\n",
    "max_of_array = np.max(random_array)\n",
    "max_arg_of_array = np.argmax(random_array)\n",
    "print(\"max of array: {}, at index {}\".format(max_of_array, max_arg_of_array))\n",
    "random_array[max_arg_of_array] = 0\n",
    "print(random_array)"
   ]
  },
  {
   "cell_type": "markdown",
   "metadata": {},
   "source": [
    "**Exercise 3:** Given two vectors: ages and heights as follows: "
   ]
  },
  {
   "cell_type": "code",
   "execution_count": 18,
   "metadata": {},
   "outputs": [
    {
     "name": "stdout",
     "output_type": "stream",
     "text": [
      "[35 27 41 35 44 39 50 53 31 40]\n",
      "[187 173 167 179 198 151 189 152 189 191]\n"
     ]
    }
   ],
   "source": [
    "ages = np.random.randint(low=20, high=60, size=10)\n",
    "heights = np.random.randint(low=150, high=200, size=10)\n",
    "print(ages)\n",
    "print(heights)"
   ]
  },
  {
   "cell_type": "markdown",
   "metadata": {},
   "source": [
    "Order(ascendingly) the people according to their age and print their corresponding heights. Hints: using argsort function."
   ]
  },
  {
   "cell_type": "code",
   "execution_count": 25,
   "metadata": {},
   "outputs": [
    {
     "name": "stdout",
     "output_type": "stream",
     "text": [
      "Age, Height\n",
      "27, 173\n",
      "31, 189\n",
      "35, 187\n",
      "35, 179\n",
      "39, 151\n",
      "40, 191\n",
      "41, 167\n",
      "44, 198\n",
      "50, 189\n",
      "53, 152\n"
     ]
    }
   ],
   "source": [
    "sorted_ages = np.argsort(ages)\n",
    "print(\"Age, Height\")\n",
    "_ =list(map(lambda age, height: print(\"{}, {}\".format(age, height)), ages[sorted_ages], heights[sorted_ages]))"
   ]
  },
  {
   "cell_type": "markdown",
   "metadata": {},
   "source": [
    "**Exercise 4:** Write a python function that generates and prints out the first n rows of Pascals triangle. \n",
    "\n",
    "eg. each number is the addition of two numbers above. Example output is:  \n",
    "[1]  \n",
    "[1, 1]  \n",
    "[1, 2, 1]  \n",
    "[1, 3, 3, 1]  \n",
    "[1, 4, 6, 4, 1]  \n",
    "[1, 5, 10, 10, 5, 1]"
   ]
  },
  {
   "cell_type": "code",
   "execution_count": 12,
   "metadata": {},
   "outputs": [
    {
     "name": "stdout",
     "output_type": "stream",
     "text": [
      "[1]\n",
      "[1, 1]\n",
      "[1, 2, 1]\n",
      "[1, 3, 3, 1]\n",
      "[1, 4, 6, 4, 1]\n",
      "[1, 5, 10, 10, 5, 1]\n",
      "[1, 6, 15, 20, 15, 6, 1]\n",
      "[1, 7, 21, 35, 35, 21, 7, 1]\n",
      "[1, 8, 28, 56, 70, 56, 28, 8, 1]\n",
      "[1, 9, 36, 84, 126, 126, 84, 36, 9, 1]\n"
     ]
    }
   ],
   "source": [
    "def generatePascal(n):\n",
    "    row = [1]\n",
    "    yield row\n",
    "    rows_generated = 1\n",
    "    while(rows_generated < n):\n",
    "        last_row = row\n",
    "        row = [1]\n",
    "        for i in range(1, len(last_row)):\n",
    "            row.append(last_row[i-1] + last_row[i])\n",
    "        row.append(1)\n",
    "        yield row\n",
    "        rows_generated += 1\n",
    "        \n",
    "for row in generatePascal(10):\n",
    "    print(row)"
   ]
  },
  {
   "cell_type": "code",
   "execution_count": null,
   "metadata": {},
   "outputs": [],
   "source": []
  }
 ],
 "metadata": {
  "kernelspec": {
   "display_name": "Python 3",
   "language": "python",
   "name": "python3"
  },
  "language_info": {
   "codemirror_mode": {
    "name": "ipython",
    "version": 3
   },
   "file_extension": ".py",
   "mimetype": "text/x-python",
   "name": "python",
   "nbconvert_exporter": "python",
   "pygments_lexer": "ipython3",
   "version": "3.6.4"
  }
 },
 "nbformat": 4,
 "nbformat_minor": 2
}
